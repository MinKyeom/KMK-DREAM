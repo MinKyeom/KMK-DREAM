{
 "cells": [
  {
   "cell_type": "markdown",
   "metadata": {},
   "source": [
    "# API 호출 샘플"
   ]
  },
  {
   "cell_type": "code",
   "execution_count": null,
   "metadata": {},
   "outputs": [],
   "source": [
    "import requests\n",
    "\n",
    "# 1) 인증 및 API 호출 (예시 엔드포인트)\n",
    "response = requests.get(\n",
    "    \"https://test.kakao.co.kr/api/v2/simulation/start\",\n",
    "    headers={\"Authorization\": \"Bearer YOUR_TOKEN\"},\n",
    "    params={\"problemId\": 123}\n",
    ")\n",
    "data = response.json()\n",
    "\n",
    "# 2) 받아온 데이터 처리 (알고리즘 구현)\n",
    "result = solve_problem(data)  # solve_problem: 문제에 맞는 알고리즘 함수\n",
    "\n",
    "# 3) 결과를 서버로 전송\n",
    "post_response = requests.post(\n",
    "    \"https://test.kakao.co.kr/api/v2/simulation/submit\",\n",
    "    headers={\"Authorization\": \"Bearer YOUR_TOKEN\", \"Content-Type\": \"application/json\"},\n",
    "    json={\"problemId\": 123, \"result\": result}\n",
    ")\n",
    "print(post_response.json())\n"
   ]
  }
 ],
 "metadata": {
  "language_info": {
   "name": "python"
  },
  "orig_nbformat": 4
 },
 "nbformat": 4,
 "nbformat_minor": 2
}
